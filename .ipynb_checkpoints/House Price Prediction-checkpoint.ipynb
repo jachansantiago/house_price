{
 "cells": [
  {
   "cell_type": "code",
   "execution_count": null,
   "metadata": {
    "collapsed": true
   },
   "outputs": [],
   "source": [
    "from sklearn import linear_model\n",
    "import numpy as np\n",
    "import pandas as pd\n"
   ]
  },
  {
   "cell_type": "code",
   "execution_count": 78,
   "metadata": {},
   "outputs": [
    {
     "data": {
      "text/plain": [
       "(1459, 80)"
      ]
     },
     "execution_count": 78,
     "metadata": {},
     "output_type": "execute_result"
    }
   ],
   "source": [
    "# Load Data\n",
    "train_data = pd.read_csv(\"train.csv\")\n",
    "test_data = pd.read_csv(\"test.csv\")\n",
    "\n",
    "#train_data.head()\n",
    "#test_data.head()\n",
    "\n",
    "# Store Ids of test data for later in the csv creation to kaggle submition\n",
    "test_ids = test_data[\"Id\"]"
   ]
  },
  {
   "cell_type": "code",
   "execution_count": 84,
   "metadata": {},
   "outputs": [
    {
     "name": "stdout",
     "output_type": "stream",
     "text": [
      "(1460,)\n"
     ]
    }
   ],
   "source": [
    "# Load Targets \n",
    "y = train_data[\"SalePrice\"]\n",
    "# Convert to numpy array\n",
    "y = np.array(y)\n",
    "\n",
    "print(y.shape)"
   ]
  },
  {
   "cell_type": "markdown",
   "metadata": {},
   "source": [
    "#### remember X is our training features and T our test features"
   ]
  },
  {
   "cell_type": "code",
   "execution_count": 68,
   "metadata": {
    "collapsed": true
   },
   "outputs": [
    {
     "name": "stdout",
     "output_type": "stream",
     "text": [
      "(1460, 3)\n",
      "(1459, 3)\n"
     ]
    }
   ],
   "source": [
    "# Load Selected features\n",
    "X = np.array([\n",
    "                train_data[\"YearBuilt\"], \n",
    "                train_data[\"YrSold\"], \n",
    "                train_data[\"LotArea\"]\n",
    "            ])\n",
    "\n",
    "T = np.array([\n",
    "                test_data[\"YearBuilt\"], \n",
    "                test_data[\"YrSold\"], \n",
    "                test_data[\"LotArea\"]\n",
    "            ])\n",
    "\n",
    "# transpose for get:\n",
    "# Columns as features\n",
    "X = X.T\n",
    "T = T.T\n",
    "\n",
    "print(X.shape)\n",
    "print(T.shape)"
   ]
  },
  {
   "cell_type": "code",
   "execution_count": 64,
   "metadata": {},
   "outputs": [
    {
     "data": {
      "text/plain": [
       "LinearRegression(copy_X=True, fit_intercept=True, n_jobs=1, normalize=False)"
      ]
     },
     "execution_count": 64,
     "metadata": {},
     "output_type": "execute_result"
    }
   ],
   "source": [
    "#Training Features\n",
    "#             #TamaNo    #Cuartos\n",
    "# X = np.array([[1000,   2],\n",
    "#               [2000,   2], \n",
    "#               [3000,   3], \n",
    "#               [10000,  5]])\n",
    "# # Training Tagets\n",
    "# y = np.array([2500, 5800, 7800, 18000])\n",
    "# Test Data\n",
    "#T = [[4000, 3], [5000, 5], [6000, 2], [7000, 8]]\n",
    "\n",
    "# Initialize Regression Object\n",
    "reg = linear_model.LinearRegression()\n",
    "\n",
    "# Training\n",
    "reg.fit(X, y)\n"
   ]
  },
  {
   "cell_type": "code",
   "execution_count": 83,
   "metadata": {
    "collapsed": true
   },
   "outputs": [],
   "source": [
    "# Predictions\n",
    "\n",
    "# Predict\n",
    "pred = reg.predict(T)\n",
    "\n",
    "# Create a \"table\" each index name is column name\n",
    "# Kaggle Format\n",
    "df_dict = {\"SalePrice\" : pred,\n",
    "           \"Id\" : test_ids }\n",
    "\n",
    "# Convert to Pandas DataFrame\n",
    "df = pd.DataFrame(df_dict)\n",
    "\n",
    "# Show Some data\n",
    "df.head()\n",
    "\n",
    "# Save in to csv file\n",
    "df.to_csv(\"pred.csv\", index=False)"
   ]
  }
 ],
 "metadata": {
  "kernelspec": {
   "display_name": "Python 3",
   "language": "python",
   "name": "python3"
  },
  "language_info": {
   "codemirror_mode": {
    "name": "ipython",
    "version": 2
   },
   "file_extension": ".py",
   "mimetype": "text/x-python",
   "name": "python",
   "nbconvert_exporter": "python",
   "pygments_lexer": "ipython2",
   "version": "2.7.13"
  }
 },
 "nbformat": 4,
 "nbformat_minor": 2
}
